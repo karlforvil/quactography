{
 "cells": [
  {
   "cell_type": "code",
   "execution_count": 2,
   "metadata": {},
   "outputs": [],
   "source": [
    "import sys\n",
    "\n",
    "sys.path.append(r\"C:\\Users\\harsh\\quactography\")\n",
    "\n",
    "from quactography.adj_matrix.io import load_graph\n",
    "from qiskit.visualization import plot_distribution  # type: ignore\n",
    "import numpy as np\n",
    "import matplotlib.pyplot as plt\n",
    "import nibabel as nib"
   ]
  },
  {
   "cell_type": "code",
   "execution_count": 17,
   "metadata": {},
   "outputs": [
    {
     "data": {
      "text/plain": [
       "['adjacency_matrix', 'node_indices', 'vol_dims']"
      ]
     },
     "execution_count": 17,
     "metadata": {},
     "output_type": "execute_result"
    }
   ],
   "source": [
    "solver = np.load('17_edges_rand_graph.npz',allow_pickle=True)\n",
    "solver.files"
   ]
  },
  {
   "cell_type": "code",
   "execution_count": 18,
   "metadata": {},
   "outputs": [
    {
     "name": "stdout",
     "output_type": "stream",
     "text": [
      "[[0 1 1 1 0 0 0 0]\n",
      " [1 0 1 0 1 1 0 0]\n",
      " [1 1 0 1 1 1 1 0]\n",
      " [1 0 1 0 0 1 1 0]\n",
      " [0 1 1 0 0 1 0 1]\n",
      " [0 1 1 1 1 0 1 1]\n",
      " [0 0 1 1 0 1 0 1]\n",
      " [0 0 0 0 1 1 1 0]]\n"
     ]
    }
   ],
   "source": [
    "print(solver['adjacency_matrix'])\n"
   ]
  },
  {
   "cell_type": "code",
   "execution_count": 19,
   "metadata": {},
   "outputs": [],
   "source": [
    "\n",
    "adjacency_matrix = solver['adjacency_matrix']\n",
    "node_indices = solver['node_indices']\n",
    "vol_dims = solver['vol_dims']\n",
    "weighted_adjacency_matrix = np.where(adjacency_matrix == 1, np.random.uniform(0.01, 0.5, adjacency_matrix.shape), 0)\n",
    "\n",
    "np.savez('weighted_17_edges_rand_graph.npz', adjacency_matrix=weighted_adjacency_matrix,node_indices=node_indices,\n",
    "             vol_dims=vol_dims)\n"
   ]
  },
  {
   "cell_type": "code",
   "execution_count": 4,
   "metadata": {},
   "outputs": [
    {
     "data": {
      "text/plain": [
       "['adjacency_matrix', 'node_indices', 'vol_dims']"
      ]
     },
     "execution_count": 4,
     "metadata": {},
     "output_type": "execute_result"
    }
   ],
   "source": [
    "graph = np.load('all_test.npz', allow_pickle=True)\n",
    "graph.files"
   ]
  },
  {
   "cell_type": "code",
   "execution_count": 5,
   "metadata": {},
   "outputs": [
    {
     "name": "stdout",
     "output_type": "stream",
     "text": [
      "[[0. 1. 1. 1.]\n",
      " [1. 0. 2. 2.]\n",
      " [1. 2. 0. 2.]\n",
      " [1. 2. 2. 0.]]\n",
      "\n",
      "\n",
      "[0 1 2 3]\n",
      "\n",
      "\n",
      "[4 4]\n"
     ]
    }
   ],
   "source": [
    "print(graph['adjacency_matrix'])\n",
    "print('\\n')\n",
    "print(graph['node_indices'])\n",
    "print('\\n')\n",
    "print(graph['vol_dims'])"
   ]
  }
 ],
 "metadata": {
  "kernelspec": {
   "display_name": "stageT2",
   "language": "python",
   "name": "python3"
  },
  "language_info": {
   "codemirror_mode": {
    "name": "ipython",
    "version": 3
   },
   "file_extension": ".py",
   "mimetype": "text/x-python",
   "name": "python",
   "nbconvert_exporter": "python",
   "pygments_lexer": "ipython3",
   "version": "3.11.5"
  }
 },
 "nbformat": 4,
 "nbformat_minor": 2
}
